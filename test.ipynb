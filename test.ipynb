{
 "cells": [
  {
   "cell_type": "markdown",
   "id": "47b33825",
   "metadata": {},
   "source": [
    "### 모델 테스트용 코드\n",
    "\n",
    "- 모델 테스트 및 성능 평가"
   ]
  }
 ],
 "metadata": {
  "language_info": {
   "name": "python"
  }
 },
 "nbformat": 4,
 "nbformat_minor": 5
}
