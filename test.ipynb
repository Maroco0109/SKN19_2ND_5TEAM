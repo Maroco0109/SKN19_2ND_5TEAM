{
 "cells": [
  {
   "cell_type": "markdown",
   "id": "47b33825",
   "metadata": {},
   "source": [
    "### 모델 테스트용 코드\n",
    "\n",
    "- 모델 테스트 및 성능 평가"
   ]
  },
  {
   "cell_type": "code",
   "execution_count": null,
   "id": "e3803c39",
   "metadata": {
    "vscode": {
     "languageId": "plaintext"
    }
   },
   "outputs": [],
   "source": [
    "import numpy as np\n",
    "import pandas as pd\n",
    "import matplotlib.pyplot as plt\n",
    "import seaborn as sns\n",
    "\n",
    "import modules.DataAnalysis as DataAnalysis\n",
    "import modules.ModelAnalysis as ModelAnalysis\n",
    "import modules.DataModify as DataModify\n",
    "from modules.DataModify import DataPreprocessing\n",
    "\n",
    "import modules.Models as Models"
   ]
  }
 ],
 "metadata": {
  "language_info": {
   "name": "python"
  }
 },
 "nbformat": 4,
 "nbformat_minor": 5
}
