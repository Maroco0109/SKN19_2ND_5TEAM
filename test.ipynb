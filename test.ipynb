{
 "cells": [
  {
   "cell_type": "markdown",
   "id": "47b33825",
   "metadata": {},
   "source": [
    "### 모델 테스트용 코드\n",
    "\n",
    "- 모델 테스트 및 성능 평가"
   ]
  },
  {
   "cell_type": "code",
   "execution_count": null,
   "id": "bf0b043f",
   "metadata": {},
   "outputs": [],
   "source": [
    "### Colab 사용시 주석 제거\n",
    "\n",
    "# !rm -rf SKN19_2ND_5TEAM\n",
    "# !git clone https://github.com/SKNetworks-AI19-250818/SKN19_2ND_5TEAM.git\n",
    "# %cd SKN19_2ND_5TEAM\n",
    "\n",
    "# import sys\n",
    "# sys.path.append('/content/SKN19_2ND_5TEAM')"
   ]
  },
  {
   "cell_type": "code",
   "execution_count": null,
   "id": "e3803c39",
   "metadata": {},
   "outputs": [],
   "source": [
    "import numpy as np\n",
    "import pandas as pd\n",
    "import matplotlib.pyplot as plt\n",
    "import seaborn as sns\n",
    "\n",
    "import modules.DataAnalysis as DataAnalysis\n",
    "import modules.ModelAnalysis as ModelAnalysis\n",
    "import modules.DataModify as DataModify\n",
    "from modules.DataModify import DataPreprocessing\n",
    "\n",
    "import modules.Models as Models"
   ]
  }
 ],
 "metadata": {
  "kernelspec": {
   "display_name": "Team5",
   "language": "python",
   "name": "python3"
  },
  "language_info": {
   "name": "python",
   "version": "3.9.23"
  }
 },
 "nbformat": 4,
 "nbformat_minor": 5
}
