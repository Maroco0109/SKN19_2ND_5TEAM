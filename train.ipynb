{
 "cells": [
  {
   "cell_type": "markdown",
   "id": "6f904acd",
   "metadata": {},
   "source": [
    "### 모델 학습용 코드 구현 및 실행\n",
    "\n",
    "- 학습별 코드 분리 (구분선 사용 및 해당 모델 이름 작성)\n",
    "- 학습된 파라미터는 ./parameters 에 .pth 형식으로 저장하여 사용"
   ]
  },
  {
   "cell_type": "code",
   "execution_count": 6,
   "id": "62e61870",
   "metadata": {},
   "outputs": [],
   "source": [
    "input_file_path = ['./data/encoded_dataset.csv']\n",
    "\n",
    "### Colab 사용시 주석 제거\n",
    "\n",
    "# !rm -rf SKN19_2ND_5TEAM\n",
    "# !git clone https://github.com/SKNetworks-AI19-250818/SKN19_2ND_5TEAM.git\n",
    "# %cd SKN19_2ND_5TEAM\n",
    "\n",
    "# import sys\n",
    "# sys.path.append('/content/SKN19_2ND_5TEAM')\n",
    "# input_file_path = ['/content/SKN19_2ND_5TEAM/data/encoded_dataset.csv']"
   ]
  },
  {
   "cell_type": "code",
   "execution_count": 7,
   "id": "6121bd33",
   "metadata": {},
   "outputs": [],
   "source": [
    "import numpy as np\n",
    "import pandas as pd\n",
    "import matplotlib.pyplot as plt\n",
    "\n",
    "import torch\n",
    "from torch.utils.data import random_split, DataLoader\n",
    "import torch.nn as nn\n",
    "import torch.optim as optim\n",
    "from sklearn.model_selection import train_test_split\n",
    "\n",
    "import modules.DataAnalysis as DataAnalysis\n",
    "import modules.ModelAnalysis as ModelAnalysis\n",
    "import modules.DataModify as DataModify\n",
    "from modules.DataModify import DataPreprocessing\n",
    "\n",
    "import modules.Models as Models"
   ]
  },
  {
   "cell_type": "code",
   "execution_count": 8,
   "id": "9614b037",
   "metadata": {},
   "outputs": [
    {
     "name": "stdout",
     "output_type": "stream",
     "text": [
      "2.8.0+cu126\n",
      "12.6\n",
      "91002\n"
     ]
    }
   ],
   "source": [
    "\n",
    "print(torch.__version__)\n",
    "print(torch.version.cuda)\n",
    "print(torch.backends.cudnn.version())\n"
   ]
  },
  {
   "cell_type": "code",
   "execution_count": 9,
   "id": "528d36b9",
   "metadata": {},
   "outputs": [],
   "source": [
    "df = pd.read_csv(\"./data/Suicide2010-2021.csv\")\n",
    "dm = DataModify.DataPreprocessing(df)\n",
    "df_sui,_,_ = dm.run()\n",
    "df_sui.to_csv(\"./data/Suicide_encode.csv\")"
   ]
  },
  {
   "cell_type": "code",
   "execution_count": null,
   "id": "82b1b6cd",
   "metadata": {},
   "outputs": [
    {
     "name": "stdout",
     "output_type": "stream",
     "text": [
      "Using device: cuda\n"
     ]
    }
   ],
   "source": [
    "# 랜덤 시드 고정 : 결과 비교용\n",
    "Models.set_seed(42)\n",
    "\n",
    "# device 설정 (cuda 사용 가능 시 cuda 사용)\n",
    "device = torch.device(\"cuda\" if torch.cuda.is_available() else \"cpu\")\n",
    "print(f\"Using device: {device}\")\n",
    "\n",
    "# Dataset 로드\n",
    "dataset = DataModify.CancerDataset(\n",
    "    target_column='target_label',              # target column\n",
    "    time_column='Survival months_bin_3m',      # Survival months\n",
    "    file_paths=input_file_path,\n",
    "    transform=None          # 기존에 정제가 완료된 데이터를 사용할 경우 None\n",
    ")\n",
    "\n",
    "\n",
    "# train set size 설정 및 분리\n",
    "train_size = int(0.8 * len(dataset))\n",
    "val_size = len(dataset) - train_size\n",
    "\n",
    "train_dataset, val_dataset = random_split(dataset, [train_size, val_size])\n",
    "\n",
    "batch_size = 64\n",
    "\n",
    "# 데이터를 로드\n",
    "train_loader = DataLoader(train_dataset, batch_size=batch_size, shuffle=True)\n",
    "val_loader = DataLoader(val_dataset, batch_size=batch_size, shuffle=True)\n",
    "\n",
    "\n",
    "# 모델 초기화\n",
    "input_dim = dataset.data.shape[1]   # input dimension : data의 feature의 개수\n",
    "hidden_size = (128, 64)             # 1번째, 2번째 hidden layer의 size\n",
    "time_bins = 91                      # 3개월 단위로 time을 split하여 각 구간으로 삼음 -> 270개월+ 는 하나로 취급\n",
    "num_events = 4                      # 사건의 개수\n",
    "\n",
    "# 모델 선언\n",
    "model = Models.DeepHitSurvWithSEBlock(input_dim, hidden_size, time_bins, num_events, dropout=.2).to(device)\n",
    "\n",
    "# 손실함수 및 optimizer 선언\n",
    "optimizer = optim.Adam(model.parameters(), lr=1e-3)\n"
   ]
  },
  {
   "cell_type": "code",
   "execution_count": 11,
   "id": "52867e7e",
   "metadata": {},
   "outputs": [],
   "source": [
    "# 모델 학습\n",
    "def train_epoch(model, loader, optimizer, device=device):\n",
    "    # 모델을 train 모드로 설정\n",
    "    model.train()\n",
    "    # loss 변수 선언\n",
    "    total_loss, total_lik, total_rank = 0, 0, 0\n",
    "\n",
    "    # loader에서 불러온 데이터를 기반으로 학습\n",
    "    for x, times, events in loader:\n",
    "        x, times, events = x.to(device), times.to(device), events.to(device)\n",
    "\n",
    "\n",
    "        optimizer.zero_grad()\n",
    "        logits, pmf, cif = model(x)\n",
    "        loss, L_lik, L_rank = Models.deephit_loss(pmf, cif, times, events)\n",
    "\n",
    "        loss.backward()\n",
    "        optimizer.step()\n",
    "\n",
    "        total_loss += loss.item() * x.size(0)\n",
    "        total_lik += L_lik.item() * x.size(0)\n",
    "        total_rank += L_rank.item() * x.size(0)\n",
    "\n",
    "    n = len(loader.dataset)\n",
    "    return total_loss/n, total_lik/n, total_rank/n\n",
    "\n",
    "# 모델 평가\n",
    "def evaluate(model, loader, device=device):\n",
    "    # 모델을 평가 모드로 설정\n",
    "    model.eval()\n",
    "    total_loss, total_lik, total_rank = 0, 0, 0\n",
    "    \n",
    "    with torch.no_grad():\n",
    "        for x, times, events in loader:\n",
    "            x, times, events = x.to(device), times.to(device), events.to(device)\n",
    "\n",
    "            logits, pmf, cif = model(x)\n",
    "            loss, L_lik, L_rank = Models.deephit_loss(pmf, cif, times, events)\n",
    "\n",
    "            total_loss += loss.item() * x.size(0)\n",
    "            total_lik += L_lik.item() * x.size(0)\n",
    "            total_rank += L_rank.item() * x.size(0)\n",
    "\n",
    "    n = len(loader.dataset)\n",
    "    return total_loss/n, total_lik/n, total_rank/n\n"
   ]
  },
  {
   "cell_type": "code",
   "execution_count": null,
   "id": "fce35d0a",
   "metadata": {},
   "outputs": [
    {
     "name": "stdout",
     "output_type": "stream",
     "text": [
      "[001] Train Loss=1.0986 (L=1.0852, R=0.0268) | Val Loss=0.8470 (L=0.8387, R=0.0166)\n",
      "[002] Train Loss=0.8156 (L=0.8063, R=0.0186) | Val Loss=0.7857 (L=0.7778, R=0.0159)\n",
      "[003] Train Loss=0.7974 (L=0.7885, R=0.0177) | Val Loss=0.7784 (L=0.7709, R=0.0149)\n",
      "[004] Train Loss=0.7890 (L=0.7803, R=0.0174) | Val Loss=0.7664 (L=0.7596, R=0.0136)\n",
      "[005] Train Loss=0.7842 (L=0.7756, R=0.0171) | Val Loss=0.7760 (L=0.7694, R=0.0132)\n",
      "[006] Train Loss=0.7815 (L=0.7730, R=0.0171) | Val Loss=0.7683 (L=0.7605, R=0.0156)\n",
      "[007] Train Loss=0.7761 (L=0.7678, R=0.0166) | Val Loss=0.7569 (L=0.7492, R=0.0153)\n",
      "[008] Train Loss=0.7682 (L=0.7603, R=0.0159) | Val Loss=0.7554 (L=0.7481, R=0.0147)\n",
      "[009] Train Loss=0.7663 (L=0.7583, R=0.0159) | Val Loss=0.7629 (L=0.7549, R=0.0161)\n",
      "[010] Train Loss=0.7649 (L=0.7570, R=0.0158) | Val Loss=0.7543 (L=0.7473, R=0.0140)\n",
      "[011] Train Loss=0.7629 (L=0.7551, R=0.0157) | Val Loss=0.7604 (L=0.7531, R=0.0146)\n",
      "[012] Train Loss=0.7621 (L=0.7542, R=0.0157) | Val Loss=0.7553 (L=0.7476, R=0.0154)\n",
      "[013] Train Loss=0.7622 (L=0.7544, R=0.0157) | Val Loss=0.7528 (L=0.7456, R=0.0143)\n",
      "[014] Train Loss=0.7611 (L=0.7532, R=0.0157) | Val Loss=0.7504 (L=0.7427, R=0.0154)\n",
      "[015] Train Loss=0.7604 (L=0.7526, R=0.0156) | Val Loss=0.7515 (L=0.7436, R=0.0156)\n",
      "[016] Train Loss=0.7608 (L=0.7529, R=0.0157) | Val Loss=0.7461 (L=0.7385, R=0.0152)\n",
      "[017] Train Loss=0.7599 (L=0.7521, R=0.0156) | Val Loss=0.7555 (L=0.7483, R=0.0143)\n",
      "[018] Train Loss=0.7604 (L=0.7526, R=0.0157) | Val Loss=0.7485 (L=0.7413, R=0.0145)\n",
      "[019] Train Loss=0.7605 (L=0.7527, R=0.0156) | Val Loss=0.7779 (L=0.7689, R=0.0179)\n",
      "[020] Train Loss=0.7594 (L=0.7516, R=0.0156) | Val Loss=0.7507 (L=0.7423, R=0.0167)\n",
      "[021] Train Loss=0.7585 (L=0.7506, R=0.0156) | Val Loss=0.7512 (L=0.7435, R=0.0153)\n",
      "[022] Train Loss=0.7618 (L=0.7539, R=0.0158) | Val Loss=0.7515 (L=0.7436, R=0.0157)\n",
      "[023] Train Loss=0.7624 (L=0.7546, R=0.0157) | Val Loss=0.7598 (L=0.7525, R=0.0147)\n",
      "[024] Train Loss=0.7621 (L=0.7542, R=0.0158) | Val Loss=0.7628 (L=0.7548, R=0.0160)\n",
      "[025] Train Loss=0.7620 (L=0.7542, R=0.0157) | Val Loss=0.7608 (L=0.7532, R=0.0151)\n",
      "[026] Train Loss=0.7619 (L=0.7540, R=0.0157) | Val Loss=0.7622 (L=0.7538, R=0.0168)\n",
      "[027] Train Loss=0.7609 (L=0.7530, R=0.0158) | Val Loss=0.7701 (L=0.7626, R=0.0150)\n",
      "[028] Train Loss=0.7610 (L=0.7532, R=0.0157) | Val Loss=0.7600 (L=0.7530, R=0.0141)\n",
      "[029] Train Loss=0.7601 (L=0.7523, R=0.0157) | Val Loss=0.7895 (L=0.7787, R=0.0217)\n",
      "[030] Train Loss=0.7609 (L=0.7531, R=0.0157) | Val Loss=0.7684 (L=0.7596, R=0.0176)\n"
     ]
    }
   ],
   "source": [
    "n_epochs = 20\n",
    "for epoch in range(1, n_epochs+1):\n",
    "    train_loss, train_lik, train_rank = train_epoch(model, train_loader, optimizer)\n",
    "    val_loss, val_lik, val_rank = evaluate(model, val_loader)\n",
    "\n",
    "    print(f\"[{epoch:03d}] \"\n",
    "          f\"Train Loss={train_loss:.4f} (L={train_lik:.4f}, R={train_rank:.4f}) | \"\n",
    "          f\"Val Loss={val_loss:.4f} (L={val_lik:.4f}, R={val_rank:.4f})\")\n"
   ]
  },
  {
   "cell_type": "code",
   "execution_count": 13,
   "id": "eba13781",
   "metadata": {},
   "outputs": [],
   "source": [
    "torch.save(model.state_dict(), \"./data/parameters/deephit_model_without_drop_cols.pth\")"
   ]
  }
 ],
 "metadata": {
  "kernelspec": {
   "display_name": "Team5",
   "language": "python",
   "name": "python3"
  },
  "language_info": {
   "codemirror_mode": {
    "name": "ipython",
    "version": 3
   },
   "file_extension": ".py",
   "mimetype": "text/x-python",
   "name": "python",
   "nbconvert_exporter": "python",
   "pygments_lexer": "ipython3",
   "version": "3.9.23"
  }
 },
 "nbformat": 4,
 "nbformat_minor": 5
}
