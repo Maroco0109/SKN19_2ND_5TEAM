{
 "cells": [
  {
   "cell_type": "markdown",
   "id": "756d8b15",
   "metadata": {},
   "source": [
    "### 시각화 코드 실행 및 테스트\n",
    "\n",
    "- 모든 모델 시각화 관련 코드 수행\n",
    "- 출력된 시각화 결과는 ./data/images에 저장 후 readme 작성할때 삽입"
   ]
  },
  {
   "cell_type": "code",
   "execution_count": 3,
   "id": "fd9219c8",
   "metadata": {},
   "outputs": [],
   "source": [
    "import numpy as np\n",
    "import pandas as pd\n",
    "import matplotlib.pyplot as plt\n",
    "import seaborn as sns\n",
    "\n",
    "import modules.DataAnalysis as DataAnalysis\n",
    "import modules.ModelAnalysis as ModelAnalysis\n",
    "import modules.DataModify as DataModify\n",
    "from modules.DataModify import DataPreprocessing\n",
    "\n",
    "import modules.Models as Models\n"
   ]
  },
  {
   "cell_type": "markdown",
   "id": "22f83925",
   "metadata": {},
   "source": [
    "---"
   ]
  },
  {
   "cell_type": "markdown",
   "id": "74c9be87",
   "metadata": {},
   "source": [
    "### 데이터 분석"
   ]
  },
  {
   "cell_type": "code",
   "execution_count": null,
   "id": "8bbda684",
   "metadata": {},
   "outputs": [],
   "source": []
  },
  {
   "cell_type": "markdown",
   "id": "7f39ccc5",
   "metadata": {},
   "source": [
    "---"
   ]
  },
  {
   "cell_type": "markdown",
   "id": "07963161",
   "metadata": {},
   "source": [
    "### 모델 분석"
   ]
  },
  {
   "cell_type": "code",
   "execution_count": null,
   "id": "3ef6b27c",
   "metadata": {},
   "outputs": [],
   "source": []
  }
 ],
 "metadata": {
  "kernelspec": {
   "display_name": "ml_env",
   "language": "python",
   "name": "python3"
  },
  "language_info": {
   "codemirror_mode": {
    "name": "ipython",
    "version": 3
   },
   "file_extension": ".py",
   "mimetype": "text/x-python",
   "name": "python",
   "nbconvert_exporter": "python",
   "pygments_lexer": "ipython3",
   "version": "3.12.11"
  }
 },
 "nbformat": 4,
 "nbformat_minor": 5
}
