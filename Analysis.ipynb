{
 "cells": [
  {
   "cell_type": "markdown",
   "id": "756d8b15",
   "metadata": {},
   "source": [
    "### 시각화 코드 실행 및 테스트\n",
    "\n",
    "- 모든 모델 시각화 관련 코드 수행\n",
    "- 출력된 시각화 결과는 ./data/images에 저장 후 readme 작성할때 삽입"
   ]
  },
  {
   "cell_type": "code",
   "execution_count": null,
   "id": "fd9219c8",
   "metadata": {
    "vscode": {
     "languageId": "plaintext"
    }
   },
   "outputs": [],
   "source": []
  },
  {
   "cell_type": "markdown",
   "id": "22f83925",
   "metadata": {},
   "source": [
    "---"
   ]
  },
  {
   "cell_type": "markdown",
   "id": "74c9be87",
   "metadata": {},
   "source": [
    "### 데이터 분석"
   ]
  },
  {
   "cell_type": "code",
   "execution_count": null,
   "id": "8bbda684",
   "metadata": {
    "vscode": {
     "languageId": "plaintext"
    }
   },
   "outputs": [],
   "source": []
  },
  {
   "cell_type": "markdown",
   "id": "7f39ccc5",
   "metadata": {},
   "source": [
    "---"
   ]
  },
  {
   "cell_type": "markdown",
   "id": "07963161",
   "metadata": {},
   "source": [
    "### 모델 분석"
   ]
  },
  {
   "cell_type": "code",
   "execution_count": null,
   "id": "3ef6b27c",
   "metadata": {
    "vscode": {
     "languageId": "plaintext"
    }
   },
   "outputs": [],
   "source": []
  }
 ],
 "metadata": {
  "language_info": {
   "name": "python"
  }
 },
 "nbformat": 4,
 "nbformat_minor": 5
}
