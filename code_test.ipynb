{
 "cells": [
  {
   "cell_type": "code",
   "execution_count": 1,
   "id": "570d91f8",
   "metadata": {},
   "outputs": [],
   "source": [
    "import numpy as np\n",
    "import pandas as pd\n",
    "import matplotlib.pyplot as plt\n",
    "\n",
    "import torch\n",
    "from torch.utils.data import random_split, DataLoader, ConcatDataset\n",
    "import torch.nn as nn\n",
    "import torch.optim as optim\n",
    "\n",
    "import modules.DataAnalysis as DataAnalysis\n",
    "import modules.ModelAnalysis as ModelAnalysis\n",
    "import modules.DataModify as DataModify\n",
    "from modules.DataSelect import DataPreprocessing\n",
    "\n",
    "import modules.Models as Models"
   ]
  },
  {
   "cell_type": "code",
   "execution_count": 2,
   "id": "1a4dd1e7",
   "metadata": {},
   "outputs": [
    {
     "name": "stdout",
     "output_type": "stream",
     "text": [
      "{'encoding_type': 'label', 'Age recode with <1 year olds and 90+': {'00 years': 0, '01-04 years': 1, '05-09 years': 2, '10-14 years': 3, '15-19 years': 4, '20-24 years': 5, '25-29 years': 6, '30-34 years': 7, '35-39 years': 8, '40-44 years': 9, '45-49 years': 10, '50-54 years': 11, '55-59 years': 12, '60-64 years': 13, '65-69 years': 14, '70-74 years': 15, '75-79 years': 16, '80-84 years': 17, '85-89 years': 18, '90+ years': 19}, 'Sex': {'Female': 0, 'Male': 1}, 'Year of diagnosis': {np.int64(2000): 0, np.int64(2001): 1, np.int64(2002): 2, np.int64(2003): 3, np.int64(2004): 4, np.int64(2005): 5, np.int64(2006): 6, np.int64(2007): 7, np.int64(2008): 8, np.int64(2009): 9, np.int64(2010): 10, np.int64(2011): 11, np.int64(2012): 12, np.int64(2013): 13, np.int64(2014): 14, np.int64(2015): 15, np.int64(2016): 16, np.int64(2017): 17, np.int64(2018): 18, np.int64(2019): 19, np.int64(2020): 20, np.int64(2021): 21, np.int64(2022): 22}, 'Race recode (W, B, AI, API)': {'American Indian/Alaska Native': 0, 'Asian or Pacific Islander': 1, 'Black': 2, 'Unknown': 3, 'White': 4}, 'Primary Site': {np.int64(160): 0, np.int64(161): 1, np.int64(162): 2, np.int64(163): 3, np.int64(164): 4, np.int64(165): 5, np.int64(166): 6, np.int64(168): 7, np.int64(169): 8, np.int64(180): 9, np.int64(181): 10, np.int64(182): 11, np.int64(183): 12, np.int64(184): 13, np.int64(185): 14, np.int64(186): 15, np.int64(187): 16, np.int64(188): 17, np.int64(189): 18, np.int64(220): 19, np.int64(221): 20, np.int64(340): 21, np.int64(341): 22, np.int64(342): 23, np.int64(343): 24, np.int64(348): 25, np.int64(349): 26}, 'Primary Site - labeled': {'C16.0-Cardia, NOS': 0, 'C16.1-Fundus of stomach': 1, 'C16.2-Body of stomach': 2, 'C16.3-Gastric antrum': 3, 'C16.4-Pylorus': 4, 'C16.5-Lesser curvature of stomach NOS': 5, 'C16.6-Greater curvature of stomach NOS': 6, 'C16.8-Overlapping lesion of stomach': 7, 'C16.9-Stomach, NOS': 8, 'C18.0-Cecum': 9, 'C18.1-Appendix': 10, 'C18.2-Ascending colon': 11, 'C18.3-Hepatic flexure of colon': 12, 'C18.4-Transverse colon': 13, 'C18.5-Splenic flexure of colon': 14, 'C18.6-Descending colon': 15, 'C18.7-Sigmoid colon': 16, 'C18.8-Overlapping lesion of colon': 17, 'C18.9-Colon, NOS': 18, 'C22.0-Liver': 19, 'C22.1-Intrahepatic bile duct': 20, 'C34.0-Main bronchus': 21, 'C34.1-Upper lobe, lung': 22, 'C34.2-Middle lobe, lung': 23, 'C34.3-Lower lobe, lung': 24, 'C34.8-Overlapping lesion of lung': 25, 'C34.9-Lung, NOS': 26}, 'Derived Summary Grade 2018 (2018+)': {'1': 0, '2': 1, '3': 2, '4': 3, '8': 4, '9': 5, 'A': 6, 'B': 7, 'Blank(s)': 8, 'C': 9, 'D': 10, 'H': 11, 'L': 12}, 'Laterality': {'Bilateral, single primary': 0, 'Left - origin of primary': 1, 'Not a paired  site': 2, 'Only one side - side unspecified': 3, 'Paired site, but no information concerning laterality': 4, 'Right - origin of primary': 5}, 'EOD Schema ID Recode (2010+)': {'Appendix': 0, 'Bile Ducts Intrahepat': 1, 'Blank(s)': 2, 'Colon and Rectum': 3, 'GIST': 4, 'HemeRetic': 5, 'Kaposi Sarcoma': 6, 'Liver': 7, 'Lung': 8, 'Lymphoma': 9, 'Lymphoma-CLL/SLL': 10, 'NET Appendix': 11, 'NET Colon and Rectum': 12, 'NET Stomach': 13, 'Plasma Cell Disorders': 14, 'Pleural Mesothelioma': 15, 'Soft Tissue Other': 16, 'Soft Tissues Abdomen and Thoracic (excluding Heart, Mediastinum, Pleura)': 17, 'Stomach (including all C16.0)': 18}, 'Combined Summary Stage with Expanded Regional Codes (2004+)': {'Blank(s)': 0, 'Distant site(s)/node(s) involved': 1, 'In situ': 2, 'Localized only': 3, 'Regional by both direct extension and lymph node involvement': 4, 'Regional by direct extension only': 5, 'Regional lymph nodes involved only': 6, 'Unknown/unstaged/unspecified/DCO': 7}, 'RX Summ--Surg Prim Site (1998+)': {np.int64(0): 0, np.int64(10): 1, np.int64(11): 2, np.int64(12): 3, np.int64(13): 4, np.int64(14): 5, np.int64(15): 6, np.int64(16): 7, np.int64(17): 8, np.int64(19): 9, np.int64(20): 10, np.int64(21): 11, np.int64(22): 12, np.int64(23): 13, np.int64(24): 14, np.int64(25): 15, np.int64(26): 16, np.int64(27): 17, np.int64(28): 18, np.int64(29): 19, np.int64(30): 20, np.int64(31): 21, np.int64(32): 22, np.int64(33): 23, np.int64(36): 24, np.int64(37): 25, np.int64(38): 26, np.int64(40): 27, np.int64(41): 28, np.int64(42): 29, np.int64(45): 30, np.int64(46): 31, np.int64(47): 32, np.int64(48): 33, np.int64(50): 34, np.int64(51): 35, np.int64(52): 36, np.int64(55): 37, np.int64(56): 38, np.int64(59): 39, np.int64(60): 40, np.int64(61): 41, np.int64(62): 42, np.int64(63): 43, np.int64(65): 44, np.int64(66): 45, np.int64(70): 46, np.int64(75): 47, np.int64(80): 48, np.int64(90): 49, np.int64(98): 50, np.int64(99): 51}, 'RX Summ--Scope Reg LN Sur (2003+)': {'1 to 3 regional lymph nodes removed': 0, '4 or more regional lymph nodes removed': 1, 'Biopsy or aspiration of regional lymph node, NOS': 2, 'Blank(s)': 3, 'Number of regional lymph nodes removed unknown': 4, 'Sentinel lymph node biopsy': 5, 'Sentinel node biopsy and lym nd removed different times': 6, 'Sentinel node biopsy and lym nd removed same/unstated time': 7, 'Unknown or not applicable': 8}, 'RX Summ--Surg Oth Reg/Dis (2003+)': {'Any combo of sur proc to oth rg, dis lym nd, and/or dis site': 0, 'Blank(s)': 1, 'Non-primary surgical procedure performed': 2, 'Non-primary surgical procedure to distant lymph node(s)': 3, 'Non-primary surgical procedure to distant site': 4, 'Non-primary surgical procedure to other regional sites': 5, 'None; diagnosed at autopsy': 6, 'Unknown; death certificate only': 7}, 'Sequence number': {'10th of 10 or more primaries': 0, '11th of 11 or more primaries': 1, '12th of 12 or more primaries': 2, '13th of 13 or more primaries': 3, '14th of 14 or more primaries': 4, '1st of 2 or more primaries': 5, '20th of 20 or more primaries': 6, '2nd of 2 or more primaries': 7, '30th of 30 or more primaries': 8, '34th of 34 or more primaries': 9, '3rd of 3 or more primaries': 10, '4th of 4 or more primaries': 11, '5th of 5 or more primaries': 12, '6th of 6 or more primaries': 13, '7th of 7 or more primaries': 14, '8th of 8 or more primaries': 15, '9th of 9 or more primaries': 16, 'One primary only': 17}, 'Median household income inflation adj to 2023': {'$100,000 - $109,999': 0, '$110,000 - $119,999': 1, '$120,000+': 2, '$40,000 - $44,999': 3, '$45,000 - $49,999': 4, '$50,000 - $54,999': 5, '$55,000 - $59,999': 6, '$60,000 - $64,999': 7, '$65,000 - $69,999': 8, '$70,000 - $74,999': 9, '$75,000 - $79,999': 10, '$80,000 - $84,999': 11, '$85,000 - $89,999': 12, '$90,000 - $94,999': 13, '$95,000 - $99,999': 14, '< $40,000': 15, 'Unknown/missing/no match/Not 1990-2023': 16}, 'EOD Primary Tumor Recode (2018+)': {'000': 0, '050': 1, '070': 2, '100': 3, '150': 4, '200': 5, '250': 6, '300': 7, '350': 8, '400': 9, '450': 10, '500': 11, '550': 12, '575': 13, '600': 14, '650': 15, '675': 16, '700': 17, '750': 18, '800': 19, '980': 20, '999': 21, 'Blank(s)': 22}, 'PRCDA 2020': {'Not PRCDA': 0, 'PRCDA': 1, 'Unknown PRCDA': 2}}\n"
     ]
    }
   ],
   "source": [
    "parameters = DataPreprocessing.load_category()\n",
    "\n",
    "print(parameters)"
   ]
  }
 ],
 "metadata": {
  "kernelspec": {
   "display_name": "nlp",
   "language": "python",
   "name": "python3"
  },
  "language_info": {
   "codemirror_mode": {
    "name": "ipython",
    "version": 3
   },
   "file_extension": ".py",
   "mimetype": "text/x-python",
   "name": "python",
   "nbconvert_exporter": "python",
   "pygments_lexer": "ipython3",
   "version": "3.9.21"
  }
 },
 "nbformat": 4,
 "nbformat_minor": 5
}
